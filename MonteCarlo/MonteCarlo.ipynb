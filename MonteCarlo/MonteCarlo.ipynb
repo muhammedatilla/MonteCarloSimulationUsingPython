{
 "cells": [
  {
   "cell_type": "code",
   "execution_count": 1,
   "id": "e2ec1fc8",
   "metadata": {},
   "outputs": [],
   "source": [
    "# kullanacağım kütüphaneleri import ettim\n",
    "import pandas as pd\n",
    "import numpy as np\n",
    "import seaborn as sns\n",
    "import random"
   ]
  },
  {
   "cell_type": "code",
   "execution_count": 2,
   "id": "0f8aab7c",
   "metadata": {},
   "outputs": [],
   "source": [
    "# excell dosyasında ki verileri okuma işlemi\n",
    "data = pd.read_excel(\"monte_carlo.xlsx\")"
   ]
  },
  {
   "cell_type": "code",
   "execution_count": 3,
   "id": "584e73f3",
   "metadata": {},
   "outputs": [],
   "source": [
    "# 48 elemanlı bir liste oluşturup 48 ayın veri miktarlarını\n",
    "# ekledim ve her miktarın kaç defa geçtini yani frekans değerini hesapladım\n",
    "veri = list(range(48))\n",
    "veri = data[\"Miktar\"]\n",
    "\n",
    "uc=0\n",
    "dort=0\n",
    "bes=0\n",
    "alti=0\n",
    "for i in veri:\n",
    "    if i == 3:\n",
    "        uc= uc+1\n",
    "    elif i == 4:\n",
    "        dort= dort+1\n",
    "    elif i ==5:\n",
    "        bes=bes+1\n",
    "    elif i == 6:\n",
    "        alti = alti+1"
   ]
  },
  {
   "cell_type": "code",
   "execution_count": 4,
   "id": "7234aef6",
   "metadata": {},
   "outputs": [
    {
     "name": "stdout",
     "output_type": "stream",
     "text": [
      "   Miktar  Frekans  Olasılık\n",
      "0       3        9  0.187500\n",
      "1       4       18  0.375000\n",
      "2       5       13  0.270833\n",
      "3       6        8  0.166667\n"
     ]
    }
   ],
   "source": [
    "# frekans ve olasılık değerlerini tuple tipinde ekrana bastım\n",
    "\n",
    "miktar = pd.DataFrame({\n",
    "    \"Miktar\": [3,4,5,6],\n",
    "    \"Frekans\": [uc, dort,bes,alti],\n",
    "    \"Olasılık\": [uc/48, dort/48, bes/48, alti/48]\n",
    "})\n",
    "print(miktar)\n",
    "\n"
   ]
  },
  {
   "cell_type": "code",
   "execution_count": 5,
   "id": "c9c678de",
   "metadata": {},
   "outputs": [
    {
     "name": "stdout",
     "output_type": "stream",
     "text": [
      "          0\n",
      "3  0.000000\n",
      "4  0.187500\n",
      "5  0.562500\n",
      "6  0.833333\n",
      "   1.000000\n"
     ]
    }
   ],
   "source": [
    "# kümülatif olasılık hesaplama işlemi gerçekleştirdim\n",
    "# round fonksiyonu olasılık değerlerinin virgülden sonraki 6 hanesini aldım\n",
    "olasilik = [round(uc/48,6), round(dort/48,6), round(bes/48,6), round(alti/48,6)]\n",
    "k_olasilik = [0,0,0,0,0]\n",
    "k_olasilik[1]=olasilik[0]\n",
    "k_olasilik[2]=olasilik[0]+olasilik[1]\n",
    "k_olasilik[3]=olasilik[0]+olasilik[1]+olasilik[2]\n",
    "k_olasilik[4]=olasilik[0]+olasilik[1]+olasilik[2]+olasilik[3]\n",
    "mikta=[3,4,5,6,\"\"]\n",
    "print(pd.DataFrame(k_olasilik,mikta))\n"
   ]
  },
  {
   "cell_type": "code",
   "execution_count": 6,
   "id": "1e709a4f",
   "metadata": {},
   "outputs": [],
   "source": [
    "# 12 tane rastgele sayı ürettim ve frekans değerlerini hesapladım\n",
    "x=0\n",
    "three=0\n",
    "four=0\n",
    "five=0\n",
    "six=0\n",
    "\n",
    "for j in range(1000):\n",
    "    for i in range(12):\n",
    "        x = round(random.random(),6)\n",
    "        if(x > k_olasilik[0] and x < k_olasilik[1]):\n",
    "            three += 1\n",
    "        elif(x > k_olasilik[1] and x < k_olasilik[2]):\n",
    "            four += 1\n",
    "        elif(x > k_olasilik[2] and x < k_olasilik[3]):\n",
    "            five += 1\n",
    "        elif(x > k_olasilik[3] and x < k_olasilik[4]):\n",
    "            six += 1\n"
   ]
  },
  {
   "cell_type": "code",
   "execution_count": 7,
   "id": "f6687fb5",
   "metadata": {},
   "outputs": [
    {
     "name": "stdout",
     "output_type": "stream",
     "text": [
      "   Miktar  Frekans\n",
      "0       3     2297\n",
      "1       4     4625\n",
      "2       5     3140\n",
      "3       6     1938\n"
     ]
    }
   ],
   "source": [
    "# Rastgele sayıların Kümülatif Olasılık değerlerinden karşılık gelen Miktar değerini ekrana yazdırdım\n",
    "tahmin = pd.DataFrame({\n",
    "    \"Miktar\": [3,4,5,6],\n",
    "    \"Frekans\": [three, four,five,six]\n",
    "})\n",
    "print(tahmin)"
   ]
  },
  {
   "cell_type": "code",
   "execution_count": null,
   "id": "1046fed2",
   "metadata": {},
   "outputs": [],
   "source": []
  }
 ],
 "metadata": {
  "kernelspec": {
   "display_name": "Python 3 (ipykernel)",
   "language": "python",
   "name": "python3"
  },
  "language_info": {
   "codemirror_mode": {
    "name": "ipython",
    "version": 3
   },
   "file_extension": ".py",
   "mimetype": "text/x-python",
   "name": "python",
   "nbconvert_exporter": "python",
   "pygments_lexer": "ipython3",
   "version": "3.9.7"
  }
 },
 "nbformat": 4,
 "nbformat_minor": 5
}
